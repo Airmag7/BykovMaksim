{
 "cells": [
  {
   "cell_type": "markdown",
   "id": "2dad57a8-1d69-4c6c-b38c-1770fbd8803f",
   "metadata": {},
   "source": [
    "1.1. Теоретический материал – Типы данных"
   ]
  },
  {
   "cell_type": "markdown",
   "id": "f0406168-c5a1-44d2-a755-d0fd60566e65",
   "metadata": {},
   "source": [
    "Типы данных\n",
    "Все типы данных в Python относятся к одной из 2-х категорий: изменяемые (mutable) и неизменяемые (immutable).\n",
    "Неизменяемые объекты:\n",
    "1. числовые данные (int, float),\n",
    "2. bool,\n",
    "3. None,\n",
    "4. символьные строки (class 'str'),\n",
    "5. кортежи (tuple).\n",
    "Изменяемые объекты:\n",
    "1. списки (list),\n",
    "2. множества (set),\n",
    "3. словари (dict)."
   ]
  },
  {
   "cell_type": "markdown",
   "id": "d3a605d6-94ea-4148-9c42-27a0f9d96d32",
   "metadata": {},
   "source": [
    "1.2. Пример"
   ]
  },
  {
   "cell_type": "code",
   "execution_count": 20,
   "id": "206fbf2f-d1b4-4ea5-844b-296b05d787e8",
   "metadata": {
    "tags": []
   },
   "outputs": [
    {
     "name": "stdout",
     "output_type": "stream",
     "text": [
      "39.4 | <class 'float'> \n",
      " None | <class 'NoneType'> \n",
      " ('a', 5, 12.345, (2, 'b')) | <class 'tuple'> \n",
      " [['Антонова Антонина', 34, 'ж'], ['Борисов Борис', 26, 'м']] | <class 'list'> \n",
      " {'title', 1, 2, 'content'} | <class 'set'> \n",
      "\n"
     ]
    }
   ],
   "source": [
    "x = 3+5.2*7\n",
    "y = None\n",
    "z = 'a', 5, 12.345, (2, 'b')\n",
    "df = [['Антонова Антонина',34, 'ж'],['Борисов Борис',26, 'м']]\n",
    "A = {1, 'title', 2, 'content'}\n",
    "\n",
    "print (x,'|', type(x), '\\n', y,'|', type(y), '\\n', z,'|', type(z), '\\n',df,'|', type(df), '\\n',A,'|', type(A), '\\n')"
   ]
  },
  {
   "cell_type": "markdown",
   "id": "68b69afa-d5a4-4d0e-9c98-04152300d932",
   "metadata": {},
   "source": [
    "1.3. Задание"
   ]
  },
  {
   "cell_type": "code",
   "execution_count": 21,
   "id": "916059c0-43e0-4d70-b96b-2ea1bb8dca52",
   "metadata": {
    "tags": []
   },
   "outputs": [
    {
     "name": "stdout",
     "output_type": "stream",
     "text": [
      "True | <class 'bool'> \n",
      " {8, 1, 3, 7} | <class 'set'> \n",
      " {2, 4, 5, 'apple', 10} | <class 'set'> \n",
      " set() | <class 'set'> \n",
      " ('Антонова Антонина', 34, 'ж') | <class 'tuple'> \n",
      " type | <class 'str'> \n",
      " [1, 'title', 2, 'content'] | <class 'list'> \n",
      "\n"
     ]
    }
   ],
   "source": [
    "x = 5 >= 2\n",
    "A = {1,3,7,8}\n",
    "B = {2,4,5,10,'apple'}\n",
    "C = A&B\n",
    "df = 'Антонова Антонина', 34, 'ж'\n",
    "z = 'type'\n",
    "D = [1, 'title', 2, 'content']\n",
    "\n",
    "print (x,'|', type(x), '\\n', A,'|', type(A), '\\n', B,'|', type(B), '\\n',C,'|', type(C), \n",
    "'\\n',df,'|', type(df), '\\n',z,'|', type(z), '\\n',D,'|', type(D), '\\n')"
   ]
  },
  {
   "cell_type": "markdown",
   "id": "28211aff-83de-4b68-b4e4-a0497eda5d0f",
   "metadata": {},
   "source": [
    "2.1. Теоретический материал – Условный оператор"
   ]
  },
  {
   "cell_type": "markdown",
   "id": "80c66384-78c6-474a-99a8-a2c71d39b6e2",
   "metadata": {},
   "source": [
    "If – Условный оператор\n",
    "В коде часто приходится проверять выполнимость или невыполнимость каких-то условий. Синтаксис:\n",
    "if <условие1 (булевское выражение)> :\n",
    "<код, который выполнится, если условие верно> elif <условие2 (булевское выражение)>:\n",
    "<код, который выполнится, если условие1 было неверно, а условие2 верно>\n",
    "else:\n",
    "<код, который выполнится, если условие1 и условие2 были неверны>\n",
    "Обратите внимание, что код, который должен выполняться внутри каждого условия, записывается с отступом в 4 пробела от уровня if, elif и else: в питоне области видимости переменных обозначаются отступами.\n",
    "То есть, отступы позволяют понять, где начинается код, который должен выполняться при выполнении условия в if, и где заканчивается."
   ]
  },
  {
   "cell_type": "markdown",
   "id": "8101287f-f9d9-44f9-a24b-6785f0fc99d5",
   "metadata": {},
   "source": [
    "2.2. Пример"
   ]
  },
  {
   "cell_type": "code",
   "execution_count": 22,
   "id": "a4420e96-49f8-4fd8-8309-ef43377387c2",
   "metadata": {
    "tags": []
   },
   "outputs": [
    {
     "name": "stdout",
     "output_type": "stream",
     "text": [
      "x положительный\n"
     ]
    }
   ],
   "source": [
    "x = 125\n",
    "if x<0:\n",
    "    print (\"x отрицательный\")\n",
    "elif x == 0:\n",
    "    print (\"x равен нулю\")\n",
    "else:\n",
    "    print (\"x положительный\")"
   ]
  },
  {
   "cell_type": "markdown",
   "id": "50b07d1c-1f4c-466e-8dbd-f3f69c655896",
   "metadata": {},
   "source": [
    "2.3. Задание"
   ]
  },
  {
   "cell_type": "code",
   "execution_count": 23,
   "id": "726deab7-2475-46e2-a008-683f51d5b19f",
   "metadata": {
    "tags": []
   },
   "outputs": [
    {
     "name": "stdout",
     "output_type": "stream",
     "text": [
      "[-5, 5]\n"
     ]
    }
   ],
   "source": [
    "x = 5\n",
    "if x < -5:\n",
    "    print (\"(-infinity, -5)\")\n",
    "elif x >= -5 and x <= 5:\n",
    "    print (\"[-5, 5]\")\n",
    "else:\n",
    "    print (\"(5, +infinity)\")"
   ]
  },
  {
   "cell_type": "markdown",
   "id": "d9e71562-c3b0-4d7b-8bc4-d53ae7878b54",
   "metadata": {},
   "source": [
    "3.1. Теоретический материал – Циклы, массивы, срезы"
   ]
  },
  {
   "cell_type": "markdown",
   "id": "0da96e02-557b-4e31-b95f-8bf9d3ac3f8e",
   "metadata": {},
   "source": [
    "Циклы - for и while\n",
    "Цикл while проверяет истинность условия, и если условие истинно, то выполняет инструкции цикла.\n",
    "Синтаксис: while условие: инструкции\n",
    "Инструкции, которые относятся к циклу while, располагаются на последующих строках и должны иметь отступ от начала ключевого слова while.\n",
    "Цикл for проходит по набору значений, помещает каждое значение в переменную с которой в цикле можно производить различные действия.\n",
    "Синтаксис:\n",
    "for переменная in набор_значений:\n",
    "инструкции\n",
    "После ключевого слова for идет название переменной, в которую\n",
    "будут помещаться значения. После оператора in указывается набор значений и двоеточие. Инструкции, которые относятся к циклу, располагаются на последующих строках и должны иметь отступ.\n",
    "При создании цикла удобно пользоваться функцией range(a, b), которая создает последовательность чисел от a до b-1."
   ]
  },
  {
   "cell_type": "markdown",
   "id": "5125a64a-76c2-4b54-94e4-17006eccdc00",
   "metadata": {},
   "source": [
    "3.2.1. Пример"
   ]
  },
  {
   "cell_type": "code",
   "execution_count": 24,
   "id": "256f0d6d-f176-4db3-a6db-7f39714b5c7f",
   "metadata": {
    "tags": []
   },
   "outputs": [
    {
     "name": "stdout",
     "output_type": "stream",
     "text": [
      "1\n",
      "4\n",
      "7\n",
      "10\n"
     ]
    }
   ],
   "source": [
    "x = 1\n",
    "while x <= 10:\n",
    "    print (x)\n",
    "    x+=3"
   ]
  },
  {
   "cell_type": "markdown",
   "id": "f37e113a-4499-4fdf-bb2b-2205415c745c",
   "metadata": {},
   "source": [
    "3.2.2. Пример"
   ]
  },
  {
   "cell_type": "code",
   "execution_count": 25,
   "id": "3933d2fb-1179-4927-8ad3-71e1f9d846b2",
   "metadata": {
    "tags": []
   },
   "outputs": [
    {
     "name": "stdout",
     "output_type": "stream",
     "text": [
      "KNN\n",
      "decision tree\n",
      "linear model\n"
     ]
    }
   ],
   "source": [
    "models = ['KNN', 'decision tree','linear model']\n",
    "for model in models:\n",
    "    print (model)"
   ]
  },
  {
   "cell_type": "markdown",
   "id": "989cee48-39a6-45a5-b6b6-8daee6c4c4b0",
   "metadata": {},
   "source": [
    "3.2.3. Пример"
   ]
  },
  {
   "cell_type": "code",
   "execution_count": 26,
   "id": "2660f5bc-e630-46c0-a140-b0e46d5f0b8a",
   "metadata": {
    "tags": []
   },
   "outputs": [
    {
     "name": "stdout",
     "output_type": "stream",
     "text": [
      "[1, 8, 15, 22, 29, 36, 43, 50, 57, 64, 71, 78, 85, 92, 99]\n"
     ]
    }
   ],
   "source": [
    "list_int = range(1, 100, 7)\n",
    "print (list(list_int))"
   ]
  },
  {
   "cell_type": "markdown",
   "id": "7e5b57b0-84b1-4bb8-9d78-cd828dba7835",
   "metadata": {},
   "source": [
    "3.2.4. Пример"
   ]
  },
  {
   "cell_type": "code",
   "execution_count": 31,
   "id": "b9a3694c-48a3-4bec-abe1-4bcc1b57fcc2",
   "metadata": {
    "tags": []
   },
   "outputs": [
    {
     "name": "stdout",
     "output_type": "stream",
     "text": [
      "1\n",
      "26\n",
      "51\n",
      "76\n",
      "101\n"
     ]
    }
   ],
   "source": [
    "for i in range(1, 106, 25):\n",
    "    print(i)"
   ]
  },
  {
   "cell_type": "markdown",
   "id": "df0e24c1-82c9-4901-9205-7026590b608a",
   "metadata": {},
   "source": [
    "3.2.5. Пример"
   ]
  },
  {
   "cell_type": "code",
   "execution_count": 29,
   "id": "34b32aa6-ba27-4e8e-b120-86c83361eba6",
   "metadata": {
    "tags": []
   },
   "outputs": [
    {
     "name": "stdout",
     "output_type": "stream",
     "text": [
      "[2, 4, 6]\n",
      "[9, 8, 7, 6, 5, 4, 3, 2, 1]\n"
     ]
    }
   ],
   "source": [
    "a = [1,2,3,4,5,6,7,8,9]\n",
    "b = a[1:7:2]\n",
    "c = a[::-1]\n",
    "print(b)\n",
    "print(c)"
   ]
  },
  {
   "cell_type": "markdown",
   "id": "6e17ce44-1592-44ce-846d-eae326361fb2",
   "metadata": {},
   "source": [
    "3.3.1 Задание"
   ]
  },
  {
   "cell_type": "code",
   "execution_count": 30,
   "id": "fa694222-9b4f-4c1c-9707-ca4e608c8230",
   "metadata": {
    "tags": []
   },
   "outputs": [
    {
     "name": "stdout",
     "output_type": "stream",
     "text": [
      "10\n",
      "7\n",
      "4\n",
      "1\n"
     ]
    }
   ],
   "source": [
    "x = 10\n",
    "while x >= 1:\n",
    "    print (x)\n",
    "    x-=3"
   ]
  },
  {
   "cell_type": "markdown",
   "id": "f0111483-a8bc-4c78-bb0c-1100f38374ad",
   "metadata": {},
   "source": [
    "3.3.2 Задание"
   ]
  },
  {
   "cell_type": "code",
   "execution_count": 32,
   "id": "4485535a-94d9-41de-afef-c840dd86b204",
   "metadata": {
    "tags": []
   },
   "outputs": [
    {
     "name": "stdout",
     "output_type": "stream",
     "text": [
      "Пол\n",
      "Рост\n",
      "Вес\n",
      "Цвет кожи\n",
      "Национальность\n"
     ]
    }
   ],
   "source": [
    "models = ['Пол', 'Рост','Вес', 'Цвет кожи','Национальность']\n",
    "for model in models:\n",
    "    print (model)"
   ]
  },
  {
   "cell_type": "markdown",
   "id": "380d9edb-b3bb-46ff-984a-ef32bc043c5f",
   "metadata": {},
   "source": [
    "3.3.3 Задание"
   ]
  },
  {
   "cell_type": "code",
   "execution_count": 38,
   "id": "d121a717-d282-406d-8437-aca28ad9af02",
   "metadata": {
    "tags": []
   },
   "outputs": [
    {
     "name": "stdout",
     "output_type": "stream",
     "text": [
      "[2, 3, 4, 5, 6, 7, 8, 9, 10, 11, 12, 13, 14, 15]\n"
     ]
    }
   ],
   "source": [
    "list_int = range(2, 16, 1)\n",
    "print (list(list_int))"
   ]
  },
  {
   "cell_type": "markdown",
   "id": "10fae43c-4ecc-4ccd-a032-e619fd7c8d75",
   "metadata": {},
   "source": [
    "3.3.4 Задание"
   ]
  },
  {
   "cell_type": "code",
   "execution_count": 41,
   "id": "d7da865f-7a66-42df-84d0-50a99dea19cc",
   "metadata": {
    "tags": []
   },
   "outputs": [
    {
     "name": "stdout",
     "output_type": "stream",
     "text": [
      "101\n",
      "76\n",
      "51\n",
      "26\n",
      "1\n"
     ]
    }
   ],
   "source": [
    "for i in range(101, 0, -25):\n",
    "    print(i)"
   ]
  },
  {
   "cell_type": "markdown",
   "id": "9d6d8b57-6be8-4fb4-9f01-4e1bda770f58",
   "metadata": {},
   "source": [
    "3.3.5 Задание"
   ]
  },
  {
   "cell_type": "code",
   "execution_count": null,
   "id": "094e5b11-a51d-427f-b056-0daa91628e0a",
   "metadata": {},
   "outputs": [],
   "source": [
    "x = [0, 1, 2, 3, 4, 5, 6, 7, 8, 9]\n"
   ]
  }
 ],
 "metadata": {
  "kernelspec": {
   "display_name": "Python 3 (ipykernel)",
   "language": "python",
   "name": "python3"
  },
  "language_info": {
   "codemirror_mode": {
    "name": "ipython",
    "version": 3
   },
   "file_extension": ".py",
   "mimetype": "text/x-python",
   "name": "python",
   "nbconvert_exporter": "python",
   "pygments_lexer": "ipython3",
   "version": "3.11.2"
  }
 },
 "nbformat": 4,
 "nbformat_minor": 5
}
