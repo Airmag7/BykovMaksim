{
 "cells": [
  {
   "cell_type": "markdown",
   "id": "7fc82475-a4e7-42c2-845f-d24726458e24",
   "metadata": {},
   "source": [
    "### Теоретический материал – Нейронные сети"
   ]
  },
  {
   "cell_type": "markdown",
   "id": "9da77a38-eada-40a7-ae14-279d0ee4ddff",
   "metadata": {},
   "source": [
    "Обучение персептрона\n",
    "Персептрон представляет собой элементарную часть нейронной сети. Одиночный персептрон является линейным бинарным классификатором. В этой лекции мы рассмотрим процедуру обучения персептрона для классификации данных. Поскольку персептрон представляет собой бинарный классификатор, то мы будем рассматривать лишь два класса.\n",
    "Пусть мы рассматриваем некоторое множество (конечное или бесконечное) n-мерных векторов, которые будем обозначать x=(x1,x2,...,xn)\n",
    " Будем считать, что это множество разбивается на два класса, которые мы будем обозначать +1 и -1. Поэтому возникает задача построения функции, которая задана на нашем множестве векторов, и принимает значения в множестве {+1, −1}. В качестве такой функции может выступать персептрон. С алгебраической точки зрения персептрон состоит из вектора весов w=(w0,w1,w2,...,wn).\n",
    "При этом персептрон работает по формулеy=sign(w0+x1w1+x2w2+...+xnwn)\n",
    ", где функция 𝑠𝑖𝑔𝑛(𝑡) равна +1, если 𝑡 ≥ 0, и равна −1, если 𝑡 < 0. Приведем алгоритм обучения персептрона. Пусть у нас есть набор обучающих данных {(𝑥, 𝑑)}, где 𝑥 - это различные вектора, а 𝑑 из множества {+1, −1} указывает к какому классу относится наш вектор.\n",
    "1. Положим вектор весов 𝑤 равным нулю.\n",
    "2. Повторять 𝑁 раз следующие шаги:\n",
    "3. Для каждого тестового набора (𝑥, 𝑑):\n",
    "4. Вычислить 𝑦 = 𝑠𝑖𝑔𝑛[(𝑥, 𝑤)].\n",
    "5. Если 𝑦𝑑 < 0, то скорректировать веса w0=w0+ad, wi=wi+adxi, 𝑖 = 1,2, ... , 𝑛.\n",
    "Описанный алгоритм довольно легко программировать."
   ]
  },
  {
   "cell_type": "markdown",
   "id": "cde06cda-c65a-4fde-b9a6-31c50b73bde9",
   "metadata": {},
   "source": [
    "### 1.1.1 Пример"
   ]
  },
  {
   "cell_type": "code",
   "execution_count": 2,
   "id": "1baa96ea-ff56-411b-a6bb-639fbee3e9d2",
   "metadata": {
    "tags": []
   },
   "outputs": [],
   "source": [
    "# класс, который реализует персептрон и его обучение\n",
    "class Perceptron:\n",
    "    def __init__(self, N):\n",
    "        # создать нулевые веса\n",
    "        self.w = list()\n",
    "        for i in range(N):\n",
    "            self.w.append(0)\n",
    "    \n",
    "    # метод для вычисления значения персептрона\n",
    "    def calc(self, x):\n",
    "        res = 0\n",
    "        for i in range(len(self.w)):\n",
    "            res = res + self.w[i] * x[i]\n",
    "        return res\n",
    "    \n",
    "    # пороговая функция активации персептрона\n",
    "    def sign(self, x):\n",
    "        if self.calc(x) > 0:\n",
    "            return 1\n",
    "        else:\n",
    "            return -1\n",
    "        \n",
    "    # обучение на одном примере\n",
    "    def learn(self, la, x, y):\n",
    "        # обучаем только, когда результат неверный\n",
    "        if y * self.calc(x) <= 0:\n",
    "            for i in range(len(self.w)):\n",
    "                self.w[i] = self.w[i] + la * y * x[i]\n",
    "    \n",
    "    # обучение по всем данным T - кортеж примеров\n",
    "    def learning(self, la, T):\n",
    "        # цикл обучения\n",
    "        for n in range(100):\n",
    "            # обучение по всем набору примеров\n",
    "            for t in T:\n",
    "                self.learn(la, t[0], t[1])"
   ]
  },
  {
   "cell_type": "markdown",
   "id": "fb046d70-25b0-4654-b1d1-a8a8b029526a",
   "metadata": {},
   "source": [
    "В строке 25 мы осуществляем корректировку весов. Посмотрим, как учится и работает наш персептрон."
   ]
  },
  {
   "cell_type": "code",
   "execution_count": 4,
   "id": "b80521ea-54d3-4a50-80fe-6966fe9d1aee",
   "metadata": {
    "tags": []
   },
   "outputs": [
    {
     "name": "stdout",
     "output_type": "stream",
     "text": [
      "[0, 0]\n",
      "-1\n",
      "1\n",
      "1\n",
      "-1\n"
     ]
    }
   ],
   "source": [
    "# создаём класс двумерного персептрона\n",
    "perception = Perceptron(2)\n",
    "la = 0.1 # константа обучения\n",
    "# создаём примеры\n",
    "T = list()\n",
    "T.append([[2,1],1])\n",
    "T.append([[3,2],1])\n",
    "T.append([[4,1],1])\n",
    "T.append([[1,2],-1])\n",
    "T.append([[2,3],-1])\n",
    "T.append([[5,7],-1])\n",
    "perception.learning(la, T) # обучение персептрона\n",
    "print(perceptron.w) # печатаем веса\n",
    "# проверим работу на тестовых примерах\n",
    "print(perception.sign([1.5, 2]))\n",
    "print(perception.sign([3, 1.5]))\n",
    "print(perception.sign([5, 1]))\n",
    "print(perception.sign([5, 10]))"
   ]
  },
  {
   "cell_type": "markdown",
   "id": "ebaf665d-7dd6-47c4-b0d5-1331ab680565",
   "metadata": {},
   "source": [
    "Видим, что что наш персептрон отлично научился распознавать образы, относя к классу 1 те вектора, у которых первая компонента больше второй, и к классу -1 в противном случае. Хотя устройство персептронов довольно простое эти конструкции могут решать и практические задачи. Кроме того, из таких персептронов состоят нейронные сети."
   ]
  },
  {
   "cell_type": "markdown",
   "id": "eee81686-dc5a-4c35-b6af-7e686ac156f6",
   "metadata": {},
   "source": [
    "### Теоретический материал – Реализация нейронной сети на Python"
   ]
  },
  {
   "cell_type": "markdown",
   "id": "4d50f497-6c26-483d-9725-7147514f70b9",
   "metadata": {},
   "source": [
    "Нейронная сеть — это функциональная единица машинного или глубокого обучения. Она имитирует поведение человеческого мозга, поскольку основана на концепции биологических нейронных сетей.\n",
    "Наиболее распространенный тип нейронной сети, называемый многослойным персептроном (MLP), представляет собой функцию, которая отображает входные данные в выходные данные. MLP имеет один входной слой и один выходной слой. Между ними может быть один или несколько скрытых слоев. Входной слой имеет тот же набор нейронов, что и признаки. Скрытые слои также могут иметь более одного нейрона. Каждый нейрон представляет собой линейную функцию, к которой применяется функция активации для решения сложных задач. Выход каждого слоя подается в качестве входных данных для всех нейронов следующих слоев.\n",
    "Нейронные сети способны решать множество задач. В основном они состоят из таких компонентов:\n",
    "\n",
    "− входной слой (получение и передача данных);\n",
    "\n",
    "− скрытый слой (вычисление);\n",
    "\n",
    "− выходной слой. Чтобы реализовать нейросеть, необходимо понимать, как ведут себя нейроны. \n",
    "\n",
    "Нейрон одновременно принимает несколько входов, обрабатывает эти данные и выдает один выход. Нейронная сеть представляет собой блоки ввода и вывода, где каждое соединение имеет соответствующие веса (это сила связи нейронов; чем вес больше, тем один нейрон сильнее влияет на другой). Данные всех входов умножаются на веса:\n",
    "    \n",
    "− 𝑥 → 𝑥∗𝑤1;\n",
    "    \n",
    "− 𝑦 → 𝑦∗𝑤2.\n",
    "\n",
    "Входы после взвешивания суммируются с прибавлением значения порога «c»: 𝑥𝑤1 +𝑦𝑤2 +𝑐\n",
    "Полученное значение пропускается через функцию активации (сигмоиду), которая преобразует входы в один выход: \n",
    "\n",
    "𝑧 = 𝑓(𝑥𝑤1 + 𝑦𝑤2 + 𝑐).\n",
    "\n",
    "Интервал результатов сигмоиды — от 0 до 1. Отрицательные числа стремятся к нулю, а положительные — к единице.\n",
    "Например. Пусть нейрон имеет следующие значения: 𝑤 =[0,1] 𝑐 = 4. Входной слой: 𝑥 = 2, 𝑦 = 3.\n",
    "\n",
    "((𝑥𝑤1) + (𝑦𝑤2)) + 𝑐 = 20 + 31 + 4 = 7. \n",
    "\n",
    "𝑧 = 𝑓(7) = 0.99."
   ]
  },
  {
   "cell_type": "markdown",
   "id": "0ba2cdbb-026c-4de2-8d16-18fa22d59e45",
   "metadata": {},
   "source": [
    "### 1.1.2 Пример"
   ]
  },
  {
   "cell_type": "code",
   "execution_count": 1,
   "id": "0b068797-c88e-4fe6-a85f-af4c6d2f8e16",
   "metadata": {},
   "outputs": [
    {
     "name": "stdout",
     "output_type": "stream",
     "text": [
      "0.9990889488055994\n"
     ]
    }
   ],
   "source": [
    "import numpy as np\n",
    "def sigmoid(x):\n",
    "    # Функция активности: f(x) = 1 / (1 + e^(-x))\n",
    "    return 1 / (1 + np.exp(-x))\n",
    "class Neuron:\n",
    "    def __init__(self, weights, bias):\n",
    "        self.weights = weights\n",
    "        self.bias = bias\n",
    "    def feedforward(self, inputs):\n",
    "        total = np.dot(self.weights, inputs) + self.bias\n",
    "        return sigmoid(total)\n",
    "    \n",
    "weights = np.array([0, 1]) # w1 = 0, w2 = 1\n",
    "bias = 4                   # c = 4\n",
    "n = Neuron(weights, bias)\n",
    "x = np.array([2, 3])       # x = 2, y = 3\n",
    "print(n.feedforward(x))    # 0.9990889488055994"
   ]
  },
  {
   "cell_type": "markdown",
   "id": "494cdfd5-67a9-4527-b662-91dc1a2af97e",
   "metadata": {},
   "source": [
    "Нейросеть состоит из множества соединенных между собой нейронов. Пример несложной нейронной сети где:\n",
    "\n",
    "𝑥1, 𝑥2 — входной слой;\n",
    "\n",
    "h1, h2 — скрытый слой с двумя нейронами;\n",
    "\n",
    "𝑜1 — выходной слой.\n",
    "\n",
    "Например. Представим, что нейроны из графика выше имеют веса [0,1]. Пороговое значение (𝑏) у обоих нейронов равно 0 и они имеют идентичную сигмоиду.При входных данных 𝑥 = [2, 3] получим:\n",
    "\n",
    "h1 = h2 = 𝑓(𝑤𝑥+𝑏) = 𝑓((02) + (1∗3) +0) = 𝑓(3) = 0.95.\n",
    "\n",
    "𝑜1 = 𝑓(𝑤∗[h1,h2] +𝑏) = 𝑓((0h1) + (1h2) +0) = 𝑓(0.95) = 0.72.\n",
    "\n",
    "Входные данные по нейронам передаются до тех пор, пока не получатся выходные значения."
   ]
  },
  {
   "cell_type": "code",
   "execution_count": 4,
   "id": "36d106ff-3458-4def-9a29-4ad27ec8630a",
   "metadata": {},
   "outputs": [
    {
     "name": "stdout",
     "output_type": "stream",
     "text": [
      "0.7216325609518421\n"
     ]
    }
   ],
   "source": [
    "import numpy as np \n",
    "class OurNeuralNetwork:\n",
    "    '''\n",
    "    Данные нейросети:\n",
    "        - два входа\n",
    "        - два нейрона в скрытых слоях (h1, h2)\n",
    "        - выход (o1)\n",
    "    Нейроны имеют иденичные веса и пороги:\n",
    "        - w = [0, 1]\n",
    "        - b = 0\n",
    "    '''\n",
    "    def __init__(self):\n",
    "        weights = np.array([0, 1])\n",
    "        bias = 0\n",
    "        # Класс Neuron из предыдущего раздела\n",
    "        self.h1 = Neuron(weights, bias)\n",
    "        self.h2 = Neuron(weights, bias)\n",
    "        self.o1 = Neuron(weights, bias)\n",
    "    def feedforward(self, x):\n",
    "        out_h1 = self.h1.feedforward(x)\n",
    "        out_h2 = self.h2.feedforward(x)\n",
    "        # Входы для o1 - это выходы h1 и h2\n",
    "        out_o1 = self.o1.feedforward(np.array([out_h1, out_h2]))\n",
    "        return out_o1\n",
    "    \n",
    "network = OurNeuralNetwork()\n",
    "x = np.array([2, 3])\n",
    "print(network.feedforward(x)) # 0.7216325609518421"
   ]
  },
  {
   "cell_type": "markdown",
   "id": "d656da44-6ea9-4290-97c5-3db19d107ad6",
   "metadata": {},
   "source": [
    "### Теоретический материал – Обучение нейронной сети"
   ]
  },
  {
   "cell_type": "markdown",
   "id": "4beadbbb-84cb-44d1-b36b-1f9d1a3beff9",
   "metadata": {},
   "source": [
    "Обучение нейросети — это подбор весов, которые соответствуют всем входам для решения поставленных задач.\n",
    "Класс нейронной сети:"
   ]
  },
  {
   "cell_type": "code",
   "execution_count": 5,
   "id": "756b8a99-0ddd-456e-8841-3df77e7a041c",
   "metadata": {},
   "outputs": [],
   "source": [
    "class NeuralNetwork:\n",
    "    def __init__(self, x, y):\n",
    "        self.input = x\n",
    "        self.weights1 = np.random.rand(self.input.shape[1], 4)\n",
    "        self.weights2 = np.random.rand(4,1)\n",
    "        self.y = y\n",
    "        self.output = np.zeros(y.shape)"
   ]
  },
  {
   "cell_type": "markdown",
   "id": "cdf5ef39-398f-4ec8-ab93-5f8b8bf1e99c",
   "metadata": {},
   "source": [
    "Каждый этап процесса обучения состоит из:\n",
    "\n",
    "− прямого распространения (прогнозируемый выход);\n",
    "\n",
    "− обратного распространения (обновление весов и смещений). Например:\n",
    "\n",
    "Дана двуслойная нейросеть:\n",
    "\n",
    "ŷ = 𝜎(𝑤2𝜎(𝑤1𝑥 + 𝑏1) + 𝑏2).\n",
    "\n",
    "В данном случае на выход ŷ влияют только две переменные — 𝑤 (веса) и 𝑏 (смещение). Настройку весов и смещений из данных входа или процесс обучения нейросети можно изобразить так:\n",
    "\n",
    "    Прямое распространение.\n",
    "\n",
    "Как видно, формула прямого распространения представляет собой несложное вычисление:\n",
    "\n",
    "ŷ = 𝜎(𝑤2𝜎(𝑤1𝑥 + 𝑏1) + 𝑏2)\n",
    "\n",
    "Далее необходимо добавить в код функцию прямого распространения. Предположим, что смещения в этом случае будут равны 0."
   ]
  },
  {
   "cell_type": "code",
   "execution_count": 6,
   "id": "9632da11-87bc-460f-a6d1-2f2d9ce2ecf9",
   "metadata": {},
   "outputs": [],
   "source": [
    "class NeuralNetwork:\n",
    "    def __init__(self, x, y):\n",
    "        self.input = x\n",
    "        self.weights1 = np.random.rand(self.input.shape[1], 4)\n",
    "        self.weights2 = np.random.rand(4,1)\n",
    "        self.y = y\n",
    "        self.output = np.zeros(y.shape)\n",
    "    def feedforward(self):\n",
    "        self.layer1 = sigmoid(np.dot(self.input, self.weights1))\n",
    "        self.output = sigmoid(np.dot(self.layer1, self.weights2))"
   ]
  },
  {
   "cell_type": "markdown",
   "id": "8d194c7c-8939-471f-968a-58ba6b38250a",
   "metadata": {},
   "source": [
    "Чтобы вычислить ошибку прогноза, необходимо использовать функцию потери. В примере уместно воспользоваться формулой суммы квадратов ошибок — средним значением между прогнозируемым и фактическим результатами:\n",
    "\n",
    "𝐸𝑟𝑟𝑜𝑟 = ∑(𝑦 − 𝑦̂)^2\n",
    "Обратное распространение\n",
    "Обратное распространение позволяет измерить производные в обратном порядке — от конца к началу, и скорректировать веса и смещения. Для этого необходимо узнать производную функции потери — тангенс угла наклона.\n",
    "Производная функции по отношению к весам и смещениям позволяет\n",
    "узнать градиентный спуск. Производная функции потери не содержит весов\n",
    "и смещений, для ее вычисления необходимо добавить правило цепи:\n",
    "Благодаря этому правилу можно регулировать веса. Добавляем в код Python функцию обратного распространения:"
   ]
  },
  {
   "cell_type": "code",
   "execution_count": 1,
   "id": "9d52e47e-6127-48b5-86d1-d02ddcef3afe",
   "metadata": {},
   "outputs": [],
   "source": [
    "class NeuralNetwork:\n",
    "    def __init__(self, x, y):\n",
    "        self.input = x\n",
    "        self.weights1 = np.random.rand(self.input.shape[1], 4)\n",
    "        self.weights2 = np.random.rand(4,1)\n",
    "        self.y = y\n",
    "        self.output = np.zeros(y.shape)\n",
    "    def feedforward(self):\n",
    "        self.layer1 = sigmoid(np.dot(self.input, self.weights1))\n",
    "        self.output = sigmoid(np.dot(self.layer1, self.weights2))\n",
    "    def backprop(self):\n",
    "        # применение правила цепи для нахождения производной функции потерь по весу2 и весу1\n",
    "        d_weights2 = np.dot(self.layer1.T, (2*(self.y - self.output) * sigmoid_derivative(self.output)))\n",
    "        d_weights2 = np.dot(self.input.T, (np.dot(2*(self.y - self.output) * sigmoid_derivative(self.output),\n",
    "                                                 self.weights2.T) * sigmoid_derivative(self.layer1)))\n",
    "        # обновление веса производной (наклона) функции потерь\n",
    "        self.weight1 += d_weights1\n",
    "        self.weight2 += d_weights2"
   ]
  },
  {
   "cell_type": "markdown",
   "id": "e1c69fde-c206-4d58-8bbf-ccabb77226ac",
   "metadata": {},
   "source": [
    "Нейронные сети базируются на определенных алгоритмах и математических функциях. Сначала может казаться, что разобраться в них довольно сложно. Но существуют готовые библиотеки машинного обучения для построения и тренировки нейросетей, позволяющие не углубляться в их устройство."
   ]
  },
  {
   "cell_type": "markdown",
   "id": "47eb6366-141f-46eb-9533-96c1f253148f",
   "metadata": {},
   "source": [
    "### Задание"
   ]
  },
  {
   "cell_type": "markdown",
   "id": "a24abb97-a1b8-4170-acb5-b19948047fca",
   "metadata": {},
   "source": [
    "Реализовать классы нейросетей по аналогии с классом OurNeuralNetwork. Данные нейросети:\n",
    "\n",
    "− три входа (𝑥1, 𝑥2, 𝑥3);\n",
    "\n",
    "− три нейрона в скрытых слоях (h1, h2, h3);\n",
    "\n",
    "− выход (𝑜1).\n",
    "\n",
    "Нейроны имеют идентичные веса и пороги:\n",
    "\n",
    "− 𝑤 = [0.5, 0.5, 0.5]\n",
    "\n",
    "− 𝑏=0 \n",
    "\n",
    "Данные нейросети:\n",
    "\n",
    "− два входа (𝑥1, 𝑥2);\n",
    "\n",
    "− два нейрона в скрытых слоях (h1, h2);\n",
    "\n",
    "− два выхода (𝑜1, 𝑜2).\n",
    "\n",
    "Нейроны имеют идентичные веса и пороги: \n",
    "\n",
    "− 𝑤 = [1,0];\n",
    "\n",
    "− 𝑏 = 1."
   ]
  },
  {
   "cell_type": "code",
   "execution_count": 1,
   "id": "5e9de0fa-b926-4e95-965a-99f79838c932",
   "metadata": {},
   "outputs": [
    {
     "name": "stdout",
     "output_type": "stream",
     "text": [
      "0.8151036049051821\n"
     ]
    }
   ],
   "source": [
    "import numpy as np\n",
    "\n",
    "def sigmoid(x):\n",
    "    return 1 / (1  + np.exp(-x))\n",
    "\n",
    "class Neuron:\n",
    "    def __init__(self, weights, bias):\n",
    "        self.weights = weights\n",
    "        self.bias = bias\n",
    "    def feedforward(self, inputs):\n",
    "        total = np.dot(self.weights, inputs) + self.bias\n",
    "        return sigmoid(total)\n",
    "\n",
    "class OurNeuralNetwork:\n",
    "    def __init__(self):\n",
    "        weights = np.array([0.5, 0.5, 0.5])\n",
    "        bias = 0\n",
    "\n",
    "        self.h1 = Neuron(weights, bias)\n",
    "        self.h2 = Neuron(weights, bias)\n",
    "        self.h3 = Neuron(weights, bias)\n",
    "        self.o1 = Neuron(weights, bias)\n",
    "  \n",
    "    def feedforward(self, x):\n",
    "        out_h1 = self.h1.feedforward(x)\n",
    "        out_h2 = self.h2.feedforward(x)\n",
    "        out_h3 = self.h2.feedforward(x)\n",
    "        out_o1 = self.o1.feedforward(np.array([out_h1, out_h2, out_h3]))\n",
    "        return out_o1\n",
    "\n",
    "network = OurNeuralNetwork()\n",
    "x = np.array([2,3,4])\n",
    "print(network.feedforward(x))"
   ]
  },
  {
   "cell_type": "code",
   "execution_count": 3,
   "id": "e478a635-96da-43bc-9652-40af78bb3502",
   "metadata": {
    "tags": []
   },
   "outputs": [
    {
     "name": "stdout",
     "output_type": "stream",
     "text": [
      "0.8757270529783324\n"
     ]
    }
   ],
   "source": [
    "import numpy as np\n",
    "\n",
    "def sigmoid(x):\n",
    "    return 1 / (1  + np.exp(-x))\n",
    "\n",
    "class Neuron:\n",
    "    def __init__(self, weights, bias):\n",
    "        self.weights = weights\n",
    "        self.bias = bias\n",
    "    def feedforward(self, inputs):\n",
    "        total = np.dot(self.weights, inputs) + self.bias\n",
    "        return sigmoid(total)\n",
    "\n",
    "class OurNeuralNetwork:\n",
    "    def __init__(self):\n",
    "        weights = np.array([1, 0])\n",
    "        bias = 1\n",
    "\n",
    "        self.h1 = Neuron(weights, bias)\n",
    "        self.h2 = Neuron(weights, bias)\n",
    "        self.o1 = Neuron(weights, bias)\n",
    "  \n",
    "    def feedforward(self, x):\n",
    "        out_h1 = self.h1.feedforward(x)\n",
    "        out_h2 = self.h2.feedforward(x)\n",
    "        out_o1 = self.o1.feedforward(np.array([out_h1, out_h2]))\n",
    "        return out_o1\n",
    "\n",
    "network = OurNeuralNetwork()\n",
    "x = np.array([2,3])\n",
    "print(network.feedforward(x))"
   ]
  },
  {
   "cell_type": "markdown",
   "id": "ce23d459-1cc8-4307-bbd1-ae0162dcb1a9",
   "metadata": {},
   "source": [
    "### Задание"
   ]
  },
  {
   "cell_type": "markdown",
   "id": "7966e90a-b903-484c-b780-0f96fcf95b79",
   "metadata": {},
   "source": [
    "Реализуйте классы нейронных сетей с использованием других функций активации. (Sigmoid, tanh, ReLU)"
   ]
  },
  {
   "cell_type": "code",
   "execution_count": 8,
   "id": "cba2167d-6af0-4d9b-8036-0b1f04ddfc54",
   "metadata": {},
   "outputs": [
    {
     "name": "stdout",
     "output_type": "stream",
     "text": [
      "1.1555911185916796\n"
     ]
    }
   ],
   "source": [
    "import numpy as np\n",
    "import math\n",
    "\n",
    "def tanh(x):\n",
    "    return math.tan(x)\n",
    "\n",
    "class Neuron:\n",
    "    def __init__(self, weights, bias):\n",
    "        self.weights = weights\n",
    "        self.bias = bias\n",
    "    def feedforward(self, inputs):\n",
    "        total = np.dot(self.weights, inputs) + self.bias\n",
    "        return tanh(total)\n",
    "\n",
    "class OurNeuralNetwork:\n",
    "    def __init__(self):\n",
    "        weights = np.array([1, 0])\n",
    "        bias = 1\n",
    "\n",
    "        self.h1 = Neuron(weights, bias)\n",
    "        self.h2 = Neuron(weights, bias)\n",
    "        self.o1 = Neuron(weights, bias)\n",
    "  \n",
    "    def feedforward(self, x):\n",
    "        out_h1 = self.h1.feedforward(x)\n",
    "        out_h2 = self.h2.feedforward(x)\n",
    "        out_o1 = self.o1.feedforward(np.array([out_h1, out_h2]))\n",
    "        return out_o1\n",
    "\n",
    "network = OurNeuralNetwork()\n",
    "x = np.array([2,3])\n",
    "print(network.feedforward(x))"
   ]
  },
  {
   "cell_type": "code",
   "execution_count": 11,
   "id": "791d0702-5863-4bdd-a588-0608b9a4dce6",
   "metadata": {},
   "outputs": [
    {
     "name": "stdout",
     "output_type": "stream",
     "text": [
      "4\n"
     ]
    }
   ],
   "source": [
    "import numpy as np\n",
    "import math\n",
    "\n",
    "def ReLU(x):\n",
    "    return max(0,x)\n",
    "\n",
    "class Neuron:\n",
    "    def __init__(self, weights, bias):\n",
    "        self.weights = weights\n",
    "        self.bias = bias\n",
    "    def feedforward(self, inputs):\n",
    "        total = np.dot(self.weights, inputs) + self.bias\n",
    "        return ReLU(total)\n",
    "\n",
    "class OurNeuralNetwork:\n",
    "    def __init__(self):\n",
    "        weights = np.array([1, 0])\n",
    "        bias = 1\n",
    "\n",
    "        self.h1 = Neuron(weights, bias)\n",
    "        self.h2 = Neuron(weights, bias)\n",
    "        self.o1 = Neuron(weights, bias)\n",
    "  \n",
    "    def feedforward(self, x):\n",
    "        out_h1 = self.h1.feedforward(x)\n",
    "        out_h2 = self.h2.feedforward(x)\n",
    "        out_o1 = self.o1.feedforward(np.array([out_h1, out_h2]))\n",
    "        return out_o1\n",
    "\n",
    "network = OurNeuralNetwork()\n",
    "x = np.array([2,3])\n",
    "print(network.feedforward(x))"
   ]
  },
  {
   "cell_type": "markdown",
   "id": "90c89d17-e014-444f-8eb2-fedd54387fea",
   "metadata": {},
   "source": [
    "### 1.2. Введение в нейронные сети с помощью Scikit-Learn в Python"
   ]
  },
  {
   "cell_type": "markdown",
   "id": "81b3760e-cc18-4571-a2f1-a6237ce905e5",
   "metadata": {},
   "source": [
    "Теперь мы знаем, что такое нейронные сети и какие шаги необходимо выполнить, чтобы построить простую нейронную сеть с плотными связями. В этом разделе мы попытаемся построить простую нейронную сеть, которая предсказывает класс, к которому принадлежит данное растение ириса. Мы будем использовать библиотеку Python Scikit-Learn для создания нашей нейронной сети.\n",
    "    \n",
    "Sklearn предоставляет 2 оценщика для задач классификации и регрессии соответственно:\n",
    "    \n",
    "− MLPClassifier;\n",
    "\n",
    "− MLPRegressor\n",
    "\n",
    "Начнем с импорта необходимых библиотек."
   ]
  },
  {
   "cell_type": "code",
   "execution_count": 21,
   "id": "27db40ca-fcb0-405a-9986-b52b94ff3b4f",
   "metadata": {
    "tags": []
   },
   "outputs": [],
   "source": [
    "#Загрузка библиотек\n",
    "import numpy as np\n",
    "import pandas as pd\n",
    "import matplotlib.pyplot as plt\n",
    "\n",
    "import sklearn"
   ]
  },
  {
   "cell_type": "markdown",
   "id": "de70ba8a-d5ba-4b54-80fa-617f4db59420",
   "metadata": {},
   "source": [
    "### MLPClassifier"
   ]
  },
  {
   "cell_type": "markdown",
   "id": "9517ecdb-bdf4-4425-98e5-b8a2bd831983",
   "metadata": {},
   "source": [
    "Загрузка данных\n",
    "Мы будем загружать два набора данных.\n",
    "Набор данных цифр: мы будем использовать набор данных цифр,\n",
    "который имеет изображения размером 8x8 для цифр 0-9. Ниже мы будем использовать цифровые данные для задач классификации.\n",
    "Набор данных о жилье в Бостоне: мы будем использовать набор данных о жилье в Бостоне, который содержит информацию о различных свойствах дома, таких как среднее количество комнат, уровень преступности на душу населения в городе и т. д. Мы будем использовать его для задач регрессии.\n",
    "Sklearn предоставляет оба этих набора данных. Мы можем загрузить их, вызвав методы load_digits() и load_boston()."
   ]
  },
  {
   "cell_type": "code",
   "execution_count": 13,
   "id": "170bfbc5-e312-4212-9950-f06389968762",
   "metadata": {
    "tags": []
   },
   "outputs": [
    {
     "name": "stdout",
     "output_type": "stream",
     "text": [
      "Dataset Sizes :  (1797, 64) (1797,)\n"
     ]
    }
   ],
   "source": [
    "from sklearn.datasets import load_digits, fetch_california_housing\n",
    "\n",
    "digits = load_digits()\n",
    "X_digits, Y_digits = digits.data, digits.target\n",
    "print('Dataset Sizes : ', X_digits.shape, Y_digits.shape)"
   ]
  },
  {
   "cell_type": "code",
   "execution_count": 14,
   "id": "72dd6e91-e243-4474-946b-bc696fb6af64",
   "metadata": {
    "tags": []
   },
   "outputs": [
    {
     "name": "stdout",
     "output_type": "stream",
     "text": [
      "Dataset Sizes :  (20640, 8) (20640,)\n"
     ]
    }
   ],
   "source": [
    "housing = fetch_california_housing()\n",
    "X_housing, Y_housing = housing.data, housing.target\n",
    "print('Dataset Sizes : ', X_housing.shape, Y_housing.shape)"
   ]
  },
  {
   "cell_type": "markdown",
   "id": "2cc5509a-bf40-44ab-b77b-adb6cec6b567",
   "metadata": {},
   "source": [
    "Классификация\n",
    "MLPClassifier — это клвсс, доступный как часть модуля neuro_network sklearn для выполнения задач классификации с использованием многослойного персептрона.\n",
    "Как обычно разделим набор данных на две части:\n",
    "\n",
    "− данные обучения, которые будут использоваться для модели\n",
    "обучения;\n",
    "\n",
    "− тестовые данные, по которым будет проверяться точность\n",
    "обученной модели.\n",
    "\n",
    "Функция train_test_split модуля model_selection sklearn поможет нам разделить данные на два набора: 80% для обучения и 20% для тестирования. Мы также используем seed(random_state=123) с train_test_split, чтобы мы всегда получали одно и то же разделение и могли сравнивать и воспроизволить результаты в будущем."
   ]
  },
  {
   "cell_type": "code",
   "execution_count": 15,
   "id": "4f6d2333-3631-4ec4-87a0-9f6a5fa63543",
   "metadata": {
    "tags": []
   },
   "outputs": [
    {
     "name": "stdout",
     "output_type": "stream",
     "text": [
      "Train/Test Sizes:  (1437, 64) (360, 64) (1437,) (360,)\n"
     ]
    }
   ],
   "source": [
    "from sklearn.model_selection import train_test_split\n",
    "\n",
    "X_train, X_test, Y_train, Y_test = train_test_split(X_digits, Y_digits,\n",
    "                                                   train_size=0.80, test_size=0.20, stratify=Y_digits, random_state=123)\n",
    "print('Train/Test Sizes: ', X_train.shape, X_test.shape, Y_train.shape, Y_test.shape)"
   ]
  },
  {
   "cell_type": "markdown",
   "id": "ef1789dd-de14-4481-b55e-2a0a774bc264",
   "metadata": {},
   "source": [
    "Для начала натренируем модель MLPClassifier с параметрами по умолчанию для тренировочных данных."
   ]
  },
  {
   "cell_type": "code",
   "execution_count": 16,
   "id": "84083fa6-8a0c-4766-b99c-649ca56edab8",
   "metadata": {
    "tags": []
   },
   "outputs": [
    {
     "data": {
      "text/html": [
       "<style>#sk-container-id-1 {color: black;background-color: white;}#sk-container-id-1 pre{padding: 0;}#sk-container-id-1 div.sk-toggleable {background-color: white;}#sk-container-id-1 label.sk-toggleable__label {cursor: pointer;display: block;width: 100%;margin-bottom: 0;padding: 0.3em;box-sizing: border-box;text-align: center;}#sk-container-id-1 label.sk-toggleable__label-arrow:before {content: \"▸\";float: left;margin-right: 0.25em;color: #696969;}#sk-container-id-1 label.sk-toggleable__label-arrow:hover:before {color: black;}#sk-container-id-1 div.sk-estimator:hover label.sk-toggleable__label-arrow:before {color: black;}#sk-container-id-1 div.sk-toggleable__content {max-height: 0;max-width: 0;overflow: hidden;text-align: left;background-color: #f0f8ff;}#sk-container-id-1 div.sk-toggleable__content pre {margin: 0.2em;color: black;border-radius: 0.25em;background-color: #f0f8ff;}#sk-container-id-1 input.sk-toggleable__control:checked~div.sk-toggleable__content {max-height: 200px;max-width: 100%;overflow: auto;}#sk-container-id-1 input.sk-toggleable__control:checked~label.sk-toggleable__label-arrow:before {content: \"▾\";}#sk-container-id-1 div.sk-estimator input.sk-toggleable__control:checked~label.sk-toggleable__label {background-color: #d4ebff;}#sk-container-id-1 div.sk-label input.sk-toggleable__control:checked~label.sk-toggleable__label {background-color: #d4ebff;}#sk-container-id-1 input.sk-hidden--visually {border: 0;clip: rect(1px 1px 1px 1px);clip: rect(1px, 1px, 1px, 1px);height: 1px;margin: -1px;overflow: hidden;padding: 0;position: absolute;width: 1px;}#sk-container-id-1 div.sk-estimator {font-family: monospace;background-color: #f0f8ff;border: 1px dotted black;border-radius: 0.25em;box-sizing: border-box;margin-bottom: 0.5em;}#sk-container-id-1 div.sk-estimator:hover {background-color: #d4ebff;}#sk-container-id-1 div.sk-parallel-item::after {content: \"\";width: 100%;border-bottom: 1px solid gray;flex-grow: 1;}#sk-container-id-1 div.sk-label:hover label.sk-toggleable__label {background-color: #d4ebff;}#sk-container-id-1 div.sk-serial::before {content: \"\";position: absolute;border-left: 1px solid gray;box-sizing: border-box;top: 0;bottom: 0;left: 50%;z-index: 0;}#sk-container-id-1 div.sk-serial {display: flex;flex-direction: column;align-items: center;background-color: white;padding-right: 0.2em;padding-left: 0.2em;position: relative;}#sk-container-id-1 div.sk-item {position: relative;z-index: 1;}#sk-container-id-1 div.sk-parallel {display: flex;align-items: stretch;justify-content: center;background-color: white;position: relative;}#sk-container-id-1 div.sk-item::before, #sk-container-id-1 div.sk-parallel-item::before {content: \"\";position: absolute;border-left: 1px solid gray;box-sizing: border-box;top: 0;bottom: 0;left: 50%;z-index: -1;}#sk-container-id-1 div.sk-parallel-item {display: flex;flex-direction: column;z-index: 1;position: relative;background-color: white;}#sk-container-id-1 div.sk-parallel-item:first-child::after {align-self: flex-end;width: 50%;}#sk-container-id-1 div.sk-parallel-item:last-child::after {align-self: flex-start;width: 50%;}#sk-container-id-1 div.sk-parallel-item:only-child::after {width: 0;}#sk-container-id-1 div.sk-dashed-wrapped {border: 1px dashed gray;margin: 0 0.4em 0.5em 0.4em;box-sizing: border-box;padding-bottom: 0.4em;background-color: white;}#sk-container-id-1 div.sk-label label {font-family: monospace;font-weight: bold;display: inline-block;line-height: 1.2em;}#sk-container-id-1 div.sk-label-container {text-align: center;}#sk-container-id-1 div.sk-container {/* jupyter's `normalize.less` sets `[hidden] { display: none; }` but bootstrap.min.css set `[hidden] { display: none !important; }` so we also need the `!important` here to be able to override the default hidden behavior on the sphinx rendered scikit-learn.org. See: https://github.com/scikit-learn/scikit-learn/issues/21755 */display: inline-block !important;position: relative;}#sk-container-id-1 div.sk-text-repr-fallback {display: none;}</style><div id=\"sk-container-id-1\" class=\"sk-top-container\"><div class=\"sk-text-repr-fallback\"><pre>MLPClassifier(random_state=123)</pre><b>In a Jupyter environment, please rerun this cell to show the HTML representation or trust the notebook. <br />On GitHub, the HTML representation is unable to render, please try loading this page with nbviewer.org.</b></div><div class=\"sk-container\" hidden><div class=\"sk-item\"><div class=\"sk-estimator sk-toggleable\"><input class=\"sk-toggleable__control sk-hidden--visually\" id=\"sk-estimator-id-1\" type=\"checkbox\" checked><label for=\"sk-estimator-id-1\" class=\"sk-toggleable__label sk-toggleable__label-arrow\">MLPClassifier</label><div class=\"sk-toggleable__content\"><pre>MLPClassifier(random_state=123)</pre></div></div></div></div></div>"
      ],
      "text/plain": [
       "MLPClassifier(random_state=123)"
      ]
     },
     "execution_count": 16,
     "metadata": {},
     "output_type": "execute_result"
    }
   ],
   "source": [
    "from sklearn.neural_network import MLPClassifier\n",
    "\n",
    "mlp_classifier = MLPClassifier(random_state=123)\n",
    "mlp_classifier.fit(X_train, Y_train)"
   ]
  },
  {
   "cell_type": "code",
   "execution_count": 17,
   "id": "6df4ee52-1979-4c2e-9c0b-5eeacba9c817",
   "metadata": {
    "tags": []
   },
   "outputs": [
    {
     "name": "stdout",
     "output_type": "stream",
     "text": [
      "[5 9 9 6 1 6 6 9 8 7 4 2 1 4 3]\n",
      "[5 9 9 6 1 6 6 9 8 7 4 2 1 4 3]\n",
      "Test Accuracy: 0.983\n",
      "Training Accuracy: 1.000\n"
     ]
    }
   ],
   "source": [
    "Y_preds = mlp_classifier.predict(X_test)\n",
    "\n",
    "print(Y_preds[:15])\n",
    "print(Y_test[:15])\n",
    "# Метод Score для оценки точности моделей классификации\n",
    "print('Test Accuracy: %.3f'%mlp_classifier.score(X_test, Y_test))\n",
    "print('Training Accuracy: %.3f'%mlp_classifier.score(X_train, Y_train))"
   ]
  },
  {
   "cell_type": "markdown",
   "id": "7047b274-43f4-4562-93dc-2743966f44e6",
   "metadata": {},
   "source": [
    "Cоздадим метод plot_confusion_matrix(), который принимает исходные и предсказанные метки данных по модели. Затем он строит матрицу путаницы, используя matplotlib."
   ]
  },
  {
   "cell_type": "code",
   "execution_count": 22,
   "id": "56dd4a43-770e-4dd1-9822-4f6d286d6635",
   "metadata": {
    "tags": []
   },
   "outputs": [],
   "source": [
    "from sklearn.metrics import confusion_matrix\n",
    "\n",
    "def plot_confusion_matrix(Y_test, X_preds):\n",
    "    conf_mat = confusion_matrix(Y_test, Y_preds)\n",
    "    # print(conf_mat)\n",
    "    fig = plt.figure(figsize=(6,6))\n",
    "    plt.matshow(conf_mat, cmap=plt.cm.Blues, fignum=1)\n",
    "    plt.yticks(range(10),range(10))\n",
    "    plt.xticks(range(10),range(10))\n",
    "    plt.colorbar()\n",
    "    for i in range(10):\n",
    "        for j in range(10):\n",
    "            plt.text(i-0.2, j+0.1, str(conf_mat[j, i]), color='tab:red')"
   ]
  },
  {
   "cell_type": "code",
   "execution_count": 23,
   "id": "87442b38-fed4-4985-8c2a-e2f7a5121d20",
   "metadata": {
    "tags": []
   },
   "outputs": [
    {
     "data": {
      "image/png": "[encoded data removed]",
      "text/plain": [
       "<Figure size 600x600 with 2 Axes>"
      ]
     },
     "metadata": {},
     "output_type": "display_data"
    }
   ],
   "source": [
    "plot_confusion_matrix(Y_test, mlp_classifier.predict(X_test))"
   ]
  },
  {
   "cell_type": "markdown",
   "id": "71c7b351-ee7c-45b8-ba1d-71985ae6436b",
   "metadata": {
    "tags": []
   },
   "source": [
    "Ниже приведен список важных атрибутов, доступных с MLPClassifier, которые могут предоставить значимую информацию после обучения модели.\n",
    "\n",
    "− loss_ — возвращает убыток после завершения процесса обучения.\n",
    "\n",
    "− coefs_ — возвращает массив длины n_layers-1, где каждый элемент представляет веса, связанные с уровнем i.\n",
    "\n",
    "− intercepts_ — возвращает массив длины n_layers-1, где каждый\n",
    "элемент представляет собой перехват, связанный с персептронами\n",
    "слоя i.\n",
    "\n",
    "− n_iter_ — количество итераций, для которых выполнялась оценка.\n",
    "\n",
    "− out_activation_ — возвращает имя функции активации выходного слоя."
   ]
  },
  {
   "cell_type": "code",
   "execution_count": 22,
   "id": "601e8470-59e0-44dc-bd0c-402df6f50d7d",
   "metadata": {
    "tags": []
   },
   "outputs": [
    {
     "name": "stdout",
     "output_type": "stream",
     "text": [
      "Loss:  0.0034728684994180603\n",
      "Number of Coefs:  2\n",
      "Number of Intercepts:  2\n",
      "Number of Iterations for Which Estimator Ran:  125\n",
      "Name of Output Layer Activation Function:  softmax\n"
     ]
    }
   ],
   "source": [
    "print(\"Loss: \", mlp_classifier.loss_)\n",
    "print(\"Number of Coefs: \", len(mlp_classifier.coefs_))\n",
    "print(\"Number of Intercepts: \", len(mlp_classifier.intercepts_))\n",
    "print(\"Number of Iterations for Which Estimator Ran: \", mlp_classifier.n_iter_)\n",
    "print(\"Name of Output Layer Activation Function: \", mlp_classifier.out_activation_)"
   ]
  },
  {
   "cell_type": "markdown",
   "id": "2935a2be-4331-4785-bfd5-4b9e44e8e1fa",
   "metadata": {},
   "source": [
    "### MLPRegressor"
   ]
  },
  {
   "cell_type": "markdown",
   "id": "ecb3d787-521d-4ea8-b422-87385470b27c",
   "metadata": {},
   "source": [
    "MLPRegressor — это класс, доступный как часть библиотеки neuro_network sklearn для выполнения задач регрессии с использованием многослойного персептрона. Также разделим набор данных на две части:\n",
    "\n",
    "− данные обучения (80%), которые будут использоваться для модели обучения;\n",
    "\n",
    "− тестовые данные (20%), по которым будет проверяться точность обученной модели."
   ]
  },
  {
   "cell_type": "code",
   "execution_count": 24,
   "id": "0acc30d9-2808-433d-960f-8f6b1ccf705b",
   "metadata": {
    "tags": []
   },
   "outputs": [
    {
     "name": "stdout",
     "output_type": "stream",
     "text": [
      "Train/Test Sizes:  (16512, 8) (4128, 8) (16512,) (4128,)\n"
     ]
    }
   ],
   "source": [
    "X_train, X_test, Y_train, Y_test = train_test_split(X_housing, Y_housing, train_size=0.80, test_size=0.20, random_state=123)\n",
    "print('Train/Test Sizes: ', X_train.shape, X_test.shape, Y_train.shape, Y_test.shape)"
   ]
  },
  {
   "cell_type": "code",
   "execution_count": 25,
   "id": "446ef034-d0ee-4d73-a2cb-3caff947e683",
   "metadata": {
    "tags": []
   },
   "outputs": [
    {
     "data": {
      "text/html": [
       "<style>#sk-container-id-2 {color: black;background-color: white;}#sk-container-id-2 pre{padding: 0;}#sk-container-id-2 div.sk-toggleable {background-color: white;}#sk-container-id-2 label.sk-toggleable__label {cursor: pointer;display: block;width: 100%;margin-bottom: 0;padding: 0.3em;box-sizing: border-box;text-align: center;}#sk-container-id-2 label.sk-toggleable__label-arrow:before {content: \"▸\";float: left;margin-right: 0.25em;color: #696969;}#sk-container-id-2 label.sk-toggleable__label-arrow:hover:before {color: black;}#sk-container-id-2 div.sk-estimator:hover label.sk-toggleable__label-arrow:before {color: black;}#sk-container-id-2 div.sk-toggleable__content {max-height: 0;max-width: 0;overflow: hidden;text-align: left;background-color: #f0f8ff;}#sk-container-id-2 div.sk-toggleable__content pre {margin: 0.2em;color: black;border-radius: 0.25em;background-color: #f0f8ff;}#sk-container-id-2 input.sk-toggleable__control:checked~div.sk-toggleable__content {max-height: 200px;max-width: 100%;overflow: auto;}#sk-container-id-2 input.sk-toggleable__control:checked~label.sk-toggleable__label-arrow:before {content: \"▾\";}#sk-container-id-2 div.sk-estimator input.sk-toggleable__control:checked~label.sk-toggleable__label {background-color: #d4ebff;}#sk-container-id-2 div.sk-label input.sk-toggleable__control:checked~label.sk-toggleable__label {background-color: #d4ebff;}#sk-container-id-2 input.sk-hidden--visually {border: 0;clip: rect(1px 1px 1px 1px);clip: rect(1px, 1px, 1px, 1px);height: 1px;margin: -1px;overflow: hidden;padding: 0;position: absolute;width: 1px;}#sk-container-id-2 div.sk-estimator {font-family: monospace;background-color: #f0f8ff;border: 1px dotted black;border-radius: 0.25em;box-sizing: border-box;margin-bottom: 0.5em;}#sk-container-id-2 div.sk-estimator:hover {background-color: #d4ebff;}#sk-container-id-2 div.sk-parallel-item::after {content: \"\";width: 100%;border-bottom: 1px solid gray;flex-grow: 1;}#sk-container-id-2 div.sk-label:hover label.sk-toggleable__label {background-color: #d4ebff;}#sk-container-id-2 div.sk-serial::before {content: \"\";position: absolute;border-left: 1px solid gray;box-sizing: border-box;top: 0;bottom: 0;left: 50%;z-index: 0;}#sk-container-id-2 div.sk-serial {display: flex;flex-direction: column;align-items: center;background-color: white;padding-right: 0.2em;padding-left: 0.2em;position: relative;}#sk-container-id-2 div.sk-item {position: relative;z-index: 1;}#sk-container-id-2 div.sk-parallel {display: flex;align-items: stretch;justify-content: center;background-color: white;position: relative;}#sk-container-id-2 div.sk-item::before, #sk-container-id-2 div.sk-parallel-item::before {content: \"\";position: absolute;border-left: 1px solid gray;box-sizing: border-box;top: 0;bottom: 0;left: 50%;z-index: -1;}#sk-container-id-2 div.sk-parallel-item {display: flex;flex-direction: column;z-index: 1;position: relative;background-color: white;}#sk-container-id-2 div.sk-parallel-item:first-child::after {align-self: flex-end;width: 50%;}#sk-container-id-2 div.sk-parallel-item:last-child::after {align-self: flex-start;width: 50%;}#sk-container-id-2 div.sk-parallel-item:only-child::after {width: 0;}#sk-container-id-2 div.sk-dashed-wrapped {border: 1px dashed gray;margin: 0 0.4em 0.5em 0.4em;box-sizing: border-box;padding-bottom: 0.4em;background-color: white;}#sk-container-id-2 div.sk-label label {font-family: monospace;font-weight: bold;display: inline-block;line-height: 1.2em;}#sk-container-id-2 div.sk-label-container {text-align: center;}#sk-container-id-2 div.sk-container {/* jupyter's `normalize.less` sets `[hidden] { display: none; }` but bootstrap.min.css set `[hidden] { display: none !important; }` so we also need the `!important` here to be able to override the default hidden behavior on the sphinx rendered scikit-learn.org. See: https://github.com/scikit-learn/scikit-learn/issues/21755 */display: inline-block !important;position: relative;}#sk-container-id-2 div.sk-text-repr-fallback {display: none;}</style><div id=\"sk-container-id-2\" class=\"sk-top-container\"><div class=\"sk-text-repr-fallback\"><pre>MLPRegressor(random_state=123)</pre><b>In a Jupyter environment, please rerun this cell to show the HTML representation or trust the notebook. <br />On GitHub, the HTML representation is unable to render, please try loading this page with nbviewer.org.</b></div><div class=\"sk-container\" hidden><div class=\"sk-item\"><div class=\"sk-estimator sk-toggleable\"><input class=\"sk-toggleable__control sk-hidden--visually\" id=\"sk-estimator-id-2\" type=\"checkbox\" checked><label for=\"sk-estimator-id-2\" class=\"sk-toggleable__label sk-toggleable__label-arrow\">MLPRegressor</label><div class=\"sk-toggleable__content\"><pre>MLPRegressor(random_state=123)</pre></div></div></div></div></div>"
      ],
      "text/plain": [
       "MLPRegressor(random_state=123)"
      ]
     },
     "execution_count": 25,
     "metadata": {},
     "output_type": "execute_result"
    }
   ],
   "source": [
    "from sklearn.neural_network import MLPRegressor\n",
    "\n",
    "mlp_regressor = MLPRegressor(random_state=123)\n",
    "mlp_regressor.fit(X_train, Y_train)"
   ]
  },
  {
   "cell_type": "code",
   "execution_count": 25,
   "id": "aeb95151-b761-4513-bdab-4e1bf9acfe87",
   "metadata": {
    "tags": []
   },
   "outputs": [
    {
     "name": "stdout",
     "output_type": "stream",
     "text": [
      "[ 5.35172001  8.03061748 11.42724672  5.98585707  1.85649195  5.31132098\n",
      "  5.46991711  9.77748793  8.10760734  7.82960361]\n",
      "[5 9 9 6 1 6 6 9 8 7]\n",
      "Test R^2 Score: 0.878\n",
      "Training R^2 Score: 0.878\n"
     ]
    }
   ],
   "source": [
    "Y_preds = mlp_regressor.predict(X_test)\n",
    "\n",
    "print(Y_preds[:10])\n",
    "print(Y_test[:10])\n",
    "# Метод Score оценивает точность моделей классификации.\n",
    "print('Test R^2 Score: %.3f'%mlp_regressor.score(X_test, Y_test))\n",
    "print('Training R^2 Score: %.3f'%mlp_regressor.score(X_test, Y_test))"
   ]
  },
  {
   "cell_type": "markdown",
   "id": "07d0c35b-f55f-4f2e-8253-b00533a4c7cc",
   "metadata": {},
   "source": [
    "MLPRegressor имеет все атрибуты такие же, как и у MLPClassifier:"
   ]
  },
  {
   "cell_type": "code",
   "execution_count": 26,
   "id": "cf234f50-6ade-4364-8ea0-79855cf776ae",
   "metadata": {
    "tags": []
   },
   "outputs": [
    {
     "name": "stdout",
     "output_type": "stream",
     "text": [
      "Loss:  0.07309221240680908\n"
     ]
    }
   ],
   "source": [
    "print(\"Loss: \", mlp_regressor.loss_)"
   ]
  },
  {
   "cell_type": "code",
   "execution_count": 28,
   "id": "169186dc-12a0-4c9e-80cd-ec78a3a8d315",
   "metadata": {
    "tags": []
   },
   "outputs": [
    {
     "name": "stdout",
     "output_type": "stream",
     "text": [
      "Number of Coefs:  2\n"
     ]
    },
    {
     "data": {
      "text/plain": [
       "[(64, 100), (100, 1)]"
      ]
     },
     "execution_count": 28,
     "metadata": {},
     "output_type": "execute_result"
    }
   ],
   "source": [
    "print(\"Number of Coefs: \", len(mlp_regressor.coefs_))\n",
    "[weights.shape for weights in mlp_regressor.coefs_]"
   ]
  },
  {
   "cell_type": "code",
   "execution_count": 29,
   "id": "0b5a9e15-662b-47c1-bfd6-9d3cb30893f4",
   "metadata": {
    "tags": []
   },
   "outputs": [
    {
     "name": "stdout",
     "output_type": "stream",
     "text": [
      "Number of Iterations for Which Estimator Ran:  200\n"
     ]
    }
   ],
   "source": [
    "print(\"Number of Iterations for Which Estimator Ran: \", mlp_regressor.n_iter_)"
   ]
  },
  {
   "cell_type": "code",
   "execution_count": 31,
   "id": "11743cd2-7ab0-4b48-9082-3bd83721018e",
   "metadata": {
    "tags": []
   },
   "outputs": [
    {
     "name": "stdout",
     "output_type": "stream",
     "text": [
      "Name of Output Layer Activation Function:  identity\n"
     ]
    }
   ],
   "source": [
    "print(\"Name of Output Layer Activation Function: \", mlp_regressor.out_activation_)"
   ]
  },
  {
   "cell_type": "markdown",
   "id": "edca3e67-5169-403f-bcb2-984329508943",
   "metadata": {
    "tags": []
   },
   "source": [
    "### Задание"
   ]
  },
  {
   "cell_type": "markdown",
   "id": "74aafdc7-839d-4a20-8692-35ed46ce4719",
   "metadata": {},
   "source": [
    "Используйте классы MLPClassified и MLPRegressor для классификации и регрессии произвольных данных из интернета. Проведите анализ атрибуты, полученных моделей.\n",
    "\n",
    "Для классификации можете взять набор данных Ирисов: \n",
    "\n",
    "https://gist.githubusercontent.com/netj/8836201/raw/6f9306ad21398ea43cba4f7d537619d0e07d5ae3/iris.csv\n",
    "\n",
    "а для регрессии датасет зависимости заработной платы от опыта работы: \n",
    "\n",
    "https://raw.githubusercontent.com/AnnaShestova/salary-years-simple-linear-regression/master/Salary_Data.csv"
   ]
  },
  {
   "cell_type": "code",
   "execution_count": 35,
   "id": "5350caef-bc26-4ce8-947c-48d98067c307",
   "metadata": {},
   "outputs": [
    {
     "name": "stdout",
     "output_type": "stream",
     "text": [
      "   sepal.length  sepal.width  petal.length  petal.width\n",
      "0           5.1          3.5           1.4          0.2\n",
      "1           4.9          3.0           1.4          0.2\n",
      "2           4.7          3.2           1.3          0.2\n",
      "3           4.6          3.1           1.5          0.2\n",
      "4           5.0          3.6           1.4          0.2\n",
      "Accuracy: 0.9666666666666667\n",
      "['Versicolor' 'Setosa' 'Virginica' 'Versicolor' 'Versicolor' 'Setosa'\n",
      " 'Versicolor' 'Versicolor' 'Versicolor' 'Versicolor' 'Virginica' 'Setosa'\n",
      " 'Setosa' 'Setosa' 'Setosa']\n",
      "73     Versicolor\n",
      "18         Setosa\n",
      "118     Virginica\n",
      "78     Versicolor\n",
      "76     Versicolor\n",
      "31         Setosa\n",
      "64     Versicolor\n",
      "141     Virginica\n",
      "68     Versicolor\n",
      "82     Versicolor\n",
      "110     Virginica\n",
      "12         Setosa\n",
      "36         Setosa\n",
      "9          Setosa\n",
      "19         Setosa\n",
      "Name: variety, dtype: object\n"
     ]
    },
    {
     "name": "stderr",
     "output_type": "stream",
     "text": [
      "/Users/mac/PycharmProjects/Pithon/venv/lib/python3.11/site-packages/sklearn/neural_network/_multilayer_perceptron.py:684: ConvergenceWarning: Stochastic Optimizer: Maximum iterations (200) reached and the optimization hasn't converged yet.\n",
      "  warnings.warn(\n"
     ]
    }
   ],
   "source": [
    "import pandas as pd\n",
    "from sklearn.neural_network import MLPClassifier, MLPRegressor\n",
    "from sklearn.model_selection import train_test_split\n",
    "from sklearn.metrics import accuracy_score, mean_squared_error\n",
    "\n",
    "import matplotlib.pyplot as plt\n",
    "\n",
    "\n",
    "iris_df = pd.read_csv('https://gist.githubusercontent.com/netj/8836201/raw/6f9306ad21398ea43cba4f7d537619d0e07d5ae3/iris.csv')\n",
    "\n",
    "\n",
    "iris_features = iris_df.drop('variety', axis=1)\n",
    "iris_label = iris_df['variety']\n",
    "\n",
    "print(iris_features.head())\n",
    "\n",
    "\n",
    "X_train, X_test, y_train, y_test = train_test_split(iris_features, iris_label, test_size=0.2, random_state=42)\n",
    "\n",
    "\n",
    "clf = MLPClassifier(hidden_layer_sizes=(10, 5))\n",
    "clf.fit(X_train, y_train)\n",
    "\n",
    "\n",
    "y_pred = clf.predict(X_test)\n",
    "\n",
    "accuracy = accuracy_score(y_test, y_pred)\n",
    "print('Accuracy:', accuracy)\n",
    "\n",
    "print(y_pred[:15])\n",
    "print(y_test[:15])"
   ]
  },
  {
   "cell_type": "code",
   "execution_count": 36,
   "id": "f85cc13e-3cfe-49b7-b72c-190cbaa6c105",
   "metadata": {
    "tags": []
   },
   "outputs": [
    {
     "name": "stdout",
     "output_type": "stream",
     "text": [
      "Mean-squared error: 7430003773.547147\n",
      "[3.76988015 2.22299348 3.3091054  2.35464341 1.66348127 1.82804369]\n",
      "27    112635.0\n",
      "15     67938.0\n",
      "23    113812.0\n",
      "17     83088.0\n",
      "8      64445.0\n",
      "9      57189.0\n",
      "Name: Salary, dtype: float64\n"
     ]
    },
    {
     "name": "stderr",
     "output_type": "stream",
     "text": [
      "/Users/mac/PycharmProjects/Pithon/venv/lib/python3.11/site-packages/sklearn/neural_network/_multilayer_perceptron.py:684: ConvergenceWarning: Stochastic Optimizer: Maximum iterations (200) reached and the optimization hasn't converged yet.\n",
      "  warnings.warn(\n"
     ]
    }
   ],
   "source": [
    "import pandas as pd\n",
    "from sklearn.neural_network import MLPClassifier, MLPRegressor\n",
    "from sklearn.model_selection import train_test_split\n",
    "from sklearn.metrics import accuracy_score, mean_squared_error\n",
    "\n",
    "\n",
    "salary_df = pd.read_csv('https://raw.githubusercontent.com/AnnaShestova/salary-years-simple-linear-regression/master/Salary_Data.csv')\n",
    "\n",
    "\n",
    "salary_features = salary_df.drop('Salary', axis=1)\n",
    "salary_label = salary_df['Salary']\n",
    "\n",
    "X_train, X_test, y_train, y_test = train_test_split(salary_features, salary_label, test_size=0.2, random_state=42)\n",
    "\n",
    "\n",
    "reg = MLPRegressor(hidden_layer_sizes=(10, 5))\n",
    "reg.fit(X_train, y_train)\n",
    "\n",
    "\n",
    "y_pred = reg.predict(X_test)\n",
    "\n",
    "\n",
    "mse = mean_squared_error(y_test, y_pred)\n",
    "print('Mean-squared error:', mse)\n",
    "\n",
    "print(y_pred[:15])\n",
    "print(y_test[:15])"
   ]
  },
  {
   "cell_type": "code",
   "execution_count": null,
   "id": "9bc14943-d91c-4745-9874-44854ac211a5",
   "metadata": {},
   "outputs": [],
   "source": []
  }
 ],
 "metadata": {
  "kernelspec": {
   "display_name": "Python 3 (ipykernel)",
   "language": "python",
   "name": "python3"
  },
  "language_info": {
   "codemirror_mode": {
    "name": "ipython",
    "version": 3
   },
   "file_extension": ".py",
   "mimetype": "text/x-python",
   "name": "python",
   "nbconvert_exporter": "python",
   "pygments_lexer": "ipython3",
   "version": "3.11.2"
  }
 },
 "nbformat": 4,
 "nbformat_minor": 5
}
