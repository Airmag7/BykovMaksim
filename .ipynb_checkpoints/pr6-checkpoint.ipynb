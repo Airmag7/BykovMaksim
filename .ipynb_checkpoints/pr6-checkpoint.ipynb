{
 "cells": [
  {
   "cell_type": "markdown",
   "id": "922260a4-66f2-4ef5-9d52-8fdecc321841",
   "metadata": {},
   "source": [
    "Теоретический материал – Эволюционные методы"
   ]
  },
  {
   "cell_type": "markdown",
   "id": "32cca21c-e403-41dc-8678-fc6f93b8ca97",
   "metadata": {},
   "source": [
    "Деревья решений являются одним из наиболее эффективных.\n",
    "Эволюционные методы\n",
    "Эволюционные методы относятся к числу эффективных средств решения задач оптимизации и структурного синтеза проектных решений. Они основаны на использовании принципов оптимального приспособления организмов в живой природе к условиям окружающей среды. К числу эволюционных относятся методы генетические, колонии муравьев, поведения толпы. Наиболее развиты и востребованы в настоящее время генетические алгоритмы. По мере развития техники и технологий растет доля сложных задач проектирования и управления, для решения которых применение традиционных методов проблематично. Поэтому все большее внимание уделяется применению методов искусственного интеллекта. Генетические алгоритмы Для применения ГА необходимо:\n",
    "\n",
    "выделить совокупность свойств объекта, характеризуемых внутренними параметрами и влияющих на его полезность, т.е. выделить множество управляемых параметровX=(x_1,x_2,…,x_n) среди x_i могут быть величины различных типов (real, integer, Boolean, enumeration). Наличие нечисловых величин (enumeration) обусловливает возможность решения задач не только параметрической, но и структурной оптимизации;\n",
    "сформулировать количественную оценку полезности вариантов объекта — функцию полезности F. Если в исходном виде задача многокритериальна, то такая формулировка означает выбор скалярного (обобщенного) критерия;\n",
    "представить вектор X в форме хромосомы — записи следующего вида: {X1,X2,...Xn}\n",
    "Этапы генетического алгоритма могут быть представлены в следующем виде:\n",
    "for (k=0; k<G; k++) { for (j=0; j<N; j++) { Выбор родительской пары хромосом; Кроссовер; Мутации; Оценка функции полезности F потомков; Селекция; } Замена текущего поколения новым; }"
   ]
  },
  {
   "cell_type": "markdown",
   "id": "ccb30041-fab8-4f91-af92-d83dc746a7ad",
   "metadata": {},
   "source": [
    "1.1.1 Пример"
   ]
  },
  {
   "cell_type": "markdown",
   "id": "b968a1e4-0d1e-40bd-a1b7-ea097711b038",
   "metadata": {},
   "source": [
    "Пусть дана начальная популяция из четырех хромосом с двумя генами x и y. Показатель качества хромосомы оценивается функцией Z. При равном качестве хромосом предпочтение отдается хромосоме с большим номером. На каждом этапе хромосома a с высшим качеством порождает четыре новых хромосомы b1, c1, b2, c2, обмениваясь генами с двумя хромосомами b и c более низкого качества по указанной схеме:"
   ]
  },
  {
   "cell_type": "code",
   "execution_count": null,
   "id": "f9437a02-0fa5-47ab-9401-5b93a6d6028e",
   "metadata": {},
   "outputs": [],
   "source": []
  },
  {
   "cell_type": "code",
   "execution_count": null,
   "id": "12421919-f370-4800-8b45-a104ad3fda72",
   "metadata": {},
   "outputs": [],
   "source": []
  },
  {
   "cell_type": "code",
   "execution_count": null,
   "id": "972baf7a-7efe-47cd-9bbd-964c9aa2c7b0",
   "metadata": {},
   "outputs": [],
   "source": []
  },
  {
   "cell_type": "code",
   "execution_count": null,
   "id": "152748d9-7f10-4acd-ba52-f7823a8105fd",
   "metadata": {},
   "outputs": [],
   "source": []
  },
  {
   "cell_type": "code",
   "execution_count": null,
   "id": "3cb97de3-797f-4e79-bf61-ac2b0f5153de",
   "metadata": {},
   "outputs": [],
   "source": []
  },
  {
   "cell_type": "code",
   "execution_count": null,
   "id": "27fe37a2-69f6-47db-9280-bc0cd220d325",
   "metadata": {},
   "outputs": [],
   "source": []
  },
  {
   "cell_type": "code",
   "execution_count": null,
   "id": "7764e058-1727-4d53-a631-755adc56f7f4",
   "metadata": {},
   "outputs": [],
   "source": []
  },
  {
   "cell_type": "code",
   "execution_count": null,
   "id": "b7f6b8de-1d83-4e8e-a0a5-1cbbb5cdcaeb",
   "metadata": {},
   "outputs": [],
   "source": []
  },
  {
   "cell_type": "code",
   "execution_count": null,
   "id": "e280ed11-e457-4a6c-a33c-8712ba9b0395",
   "metadata": {},
   "outputs": [],
   "source": []
  },
  {
   "cell_type": "code",
   "execution_count": null,
   "id": "0e685e10-f41f-4032-9991-2513b1080959",
   "metadata": {},
   "outputs": [],
   "source": []
  },
  {
   "cell_type": "code",
   "execution_count": null,
   "id": "2720b203-cdd4-4e5b-a9ff-3eacbc857475",
   "metadata": {},
   "outputs": [],
   "source": []
  },
  {
   "cell_type": "code",
   "execution_count": null,
   "id": "33a0f2c6-1592-47cc-ab1b-903753e03f41",
   "metadata": {},
   "outputs": [],
   "source": []
  },
  {
   "cell_type": "code",
   "execution_count": null,
   "id": "f7466c32-0343-4024-80fc-d006763270fe",
   "metadata": {},
   "outputs": [],
   "source": []
  },
  {
   "cell_type": "code",
   "execution_count": null,
   "id": "5905293a-6044-46bb-8f29-2237566faf8f",
   "metadata": {},
   "outputs": [],
   "source": []
  },
  {
   "cell_type": "code",
   "execution_count": null,
   "id": "f60bf0d1-74ca-41df-bd3c-de55739a7f10",
   "metadata": {},
   "outputs": [],
   "source": []
  },
  {
   "cell_type": "code",
   "execution_count": null,
   "id": "259dfe90-5220-4d9f-80f2-ccc6ab466d90",
   "metadata": {},
   "outputs": [],
   "source": []
  },
  {
   "cell_type": "code",
   "execution_count": null,
   "id": "c0edbe7c-1c27-4973-a724-9bfe570774da",
   "metadata": {},
   "outputs": [],
   "source": []
  },
  {
   "cell_type": "code",
   "execution_count": null,
   "id": "6df6a20d-88c4-4fb8-b16a-bdde16855a8f",
   "metadata": {},
   "outputs": [],
   "source": []
  },
  {
   "cell_type": "code",
   "execution_count": null,
   "id": "a4b5625e-b35f-4437-aad8-33869fc2335c",
   "metadata": {},
   "outputs": [],
   "source": []
  }
 ],
 "metadata": {
  "kernelspec": {
   "display_name": "Python 3 (ipykernel)",
   "language": "python",
   "name": "python3"
  },
  "language_info": {
   "codemirror_mode": {
    "name": "ipython",
    "version": 3
   },
   "file_extension": ".py",
   "mimetype": "text/x-python",
   "name": "python",
   "nbconvert_exporter": "python",
   "pygments_lexer": "ipython3",
   "version": "3.11.2"
  }
 },
 "nbformat": 4,
 "nbformat_minor": 5
}
